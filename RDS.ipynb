{
 "cells": [
  {
   "cell_type": "code",
   "execution_count": 27,
   "id": "69ee47fb-840b-4844-84e8-5cf9fb2e6c6e",
   "metadata": {},
   "outputs": [
    {
     "name": "stdout",
     "output_type": "stream",
     "text": [
      "Requirement already satisfied: mysql-connector-python in d:\\ananconda navi\\lib\\site-packages (9.0.0)\n"
     ]
    }
   ],
   "source": [
    "!pip install mysql-connector-python"
   ]
  },
  {
   "cell_type": "code",
   "execution_count": 28,
   "id": "4457bef4-9a1e-49e0-9d8d-224b86c6de4b",
   "metadata": {},
   "outputs": [],
   "source": [
    "import mysql.connector"
   ]
  },
  {
   "cell_type": "code",
   "execution_count": 33,
   "id": "a18f4676-e357-4890-b58c-4eb5019e3390",
   "metadata": {},
   "outputs": [],
   "source": [
    "mydb = mysql.connector.connect(\n",
    "  host=\"mspdb.czueskmq6lm3.ap-south-1.rds.amazonaws.com\",\n",
    "  user=\"admin\",\n",
    "  password=\"Mukeshsurya\",\n",
    "  port=3306\n",
    ")"
   ]
  },
  {
   "cell_type": "code",
   "execution_count": 35,
   "id": "d15fc0e9-c8d9-47a3-9f9f-db4970b96733",
   "metadata": {},
   "outputs": [
    {
     "name": "stdout",
     "output_type": "stream",
     "text": [
      "<mysql.connector.connection_cext.CMySQLConnection object at 0x00000179CC6AD0D0>\n",
      "('information_schema',)\n",
      "('mysql',)\n",
      "('performance_schema',)\n",
      "('sys',)\n",
      "('user_logs',)\n"
     ]
    }
   ],
   "source": [
    "print(mydb)\n",
    "mycursor = mydb.cursor(buffered=True)\n",
    "mycursor.execute(\"Show databases\")\n",
    "for x in mycursor:\n",
    "  print(x)"
   ]
  },
  {
   "cell_type": "code",
   "execution_count": 15,
   "id": "968475bc-af22-40dd-9ca3-ff900528b059",
   "metadata": {},
   "outputs": [],
   "source": [
    "mycursor.execute(\"CREATE DATABASE user_logs\")"
   ]
  },
  {
   "cell_type": "code",
   "execution_count": 37,
   "id": "c4b5f9d9-3b56-4263-9796-9ffd85dbee97",
   "metadata": {},
   "outputs": [],
   "source": [
    "mycursor.execute(\"USE user_logs\")"
   ]
  },
  {
   "cell_type": "code",
   "execution_count": 39,
   "id": "ed848b80-5e39-45f9-aa91-9efb4f4d4a69",
   "metadata": {},
   "outputs": [
    {
     "ename": "ProgrammingError",
     "evalue": "1050 (42S01): Table 'APP_USER_LOGS' already exists",
     "output_type": "error",
     "traceback": [
      "\u001b[1;31m---------------------------------------------------------------------------\u001b[0m",
      "\u001b[1;31mMySQLInterfaceError\u001b[0m                       Traceback (most recent call last)",
      "File \u001b[1;32mD:\\ananconda navi\\Lib\\site-packages\\mysql\\connector\\connection_cext.py:705\u001b[0m, in \u001b[0;36mCMySQLConnection.cmd_query\u001b[1;34m(self, query, raw, buffered, raw_as_string)\u001b[0m\n\u001b[0;32m    704\u001b[0m         query \u001b[38;5;241m=\u001b[39m query\u001b[38;5;241m.\u001b[39mencode(\u001b[38;5;124m\"\u001b[39m\u001b[38;5;124mutf-8\u001b[39m\u001b[38;5;124m\"\u001b[39m)\n\u001b[1;32m--> 705\u001b[0m     \u001b[38;5;28mself\u001b[39m\u001b[38;5;241m.\u001b[39m_cmysql\u001b[38;5;241m.\u001b[39mquery(\n\u001b[0;32m    706\u001b[0m         query,\n\u001b[0;32m    707\u001b[0m         raw\u001b[38;5;241m=\u001b[39mraw,\n\u001b[0;32m    708\u001b[0m         buffered\u001b[38;5;241m=\u001b[39mbuffered,\n\u001b[0;32m    709\u001b[0m         raw_as_string\u001b[38;5;241m=\u001b[39mraw_as_string,\n\u001b[0;32m    710\u001b[0m         query_attrs\u001b[38;5;241m=\u001b[39m\u001b[38;5;28mself\u001b[39m\u001b[38;5;241m.\u001b[39mquery_attrs,\n\u001b[0;32m    711\u001b[0m     )\n\u001b[0;32m    712\u001b[0m \u001b[38;5;28;01mexcept\u001b[39;00m MySQLInterfaceError \u001b[38;5;28;01mas\u001b[39;00m err:\n",
      "\u001b[1;31mMySQLInterfaceError\u001b[0m: Table 'APP_USER_LOGS' already exists",
      "\nThe above exception was the direct cause of the following exception:\n",
      "\u001b[1;31mProgrammingError\u001b[0m                          Traceback (most recent call last)",
      "Cell \u001b[1;32mIn[39], line 1\u001b[0m\n\u001b[1;32m----> 1\u001b[0m mycursor\u001b[38;5;241m.\u001b[39mexecute(\u001b[38;5;124m\"\"\"\u001b[39m\u001b[38;5;124mCREATE TABLE APP_USER_LOGS (\u001b[39m\n\u001b[0;32m      2\u001b[0m \u001b[38;5;124m    ID INT AUTO_INCREMENT PRIMARY KEY,\u001b[39m\n\u001b[0;32m      3\u001b[0m \u001b[38;5;124m    Text TEXT,\u001b[39m\n\u001b[0;32m      4\u001b[0m \u001b[38;5;124m    Predicted_class INT,\u001b[39m\n\u001b[0;32m      5\u001b[0m \u001b[38;5;124m    Negative FLOAT,\u001b[39m\n\u001b[0;32m      6\u001b[0m \u001b[38;5;124m    Neutral FLOAT,\u001b[39m\n\u001b[0;32m      7\u001b[0m \u001b[38;5;124m    Positive FLOAT,\u001b[39m\n\u001b[0;32m      8\u001b[0m \u001b[38;5;124m    ip_address VARCHAR(45),\u001b[39m\n\u001b[0;32m      9\u001b[0m \u001b[38;5;124m    Timestamp DATETIME DEFAULT CURRENT_TIMESTAMP\u001b[39m\n\u001b[0;32m     10\u001b[0m \u001b[38;5;124m);\u001b[39m\n\u001b[0;32m     11\u001b[0m \u001b[38;5;124m\"\"\"\u001b[39m)\n",
      "File \u001b[1;32mD:\\ananconda navi\\Lib\\site-packages\\mysql\\connector\\cursor_cext.py:357\u001b[0m, in \u001b[0;36mCMySQLCursor.execute\u001b[1;34m(self, operation, params, multi)\u001b[0m\n\u001b[0;32m    352\u001b[0m             \u001b[38;5;28;01mraise\u001b[39;00m ProgrammingError(\n\u001b[0;32m    353\u001b[0m                 \u001b[38;5;124m\"\u001b[39m\u001b[38;5;124mNot all parameters were used in the SQL statement\u001b[39m\u001b[38;5;124m\"\u001b[39m\n\u001b[0;32m    354\u001b[0m             )\n\u001b[0;32m    356\u001b[0m \u001b[38;5;28;01mtry\u001b[39;00m:\n\u001b[1;32m--> 357\u001b[0m     result \u001b[38;5;241m=\u001b[39m \u001b[38;5;28mself\u001b[39m\u001b[38;5;241m.\u001b[39m_connection\u001b[38;5;241m.\u001b[39mcmd_query(\n\u001b[0;32m    358\u001b[0m         stmt,\n\u001b[0;32m    359\u001b[0m         raw\u001b[38;5;241m=\u001b[39m\u001b[38;5;28mself\u001b[39m\u001b[38;5;241m.\u001b[39m_raw,\n\u001b[0;32m    360\u001b[0m         buffered\u001b[38;5;241m=\u001b[39m\u001b[38;5;28mself\u001b[39m\u001b[38;5;241m.\u001b[39m_buffered,\n\u001b[0;32m    361\u001b[0m         raw_as_string\u001b[38;5;241m=\u001b[39m\u001b[38;5;28mself\u001b[39m\u001b[38;5;241m.\u001b[39m_raw_as_string,\n\u001b[0;32m    362\u001b[0m     )\n\u001b[0;32m    363\u001b[0m \u001b[38;5;28;01mexcept\u001b[39;00m MySQLInterfaceError \u001b[38;5;28;01mas\u001b[39;00m err:\n\u001b[0;32m    364\u001b[0m     \u001b[38;5;28;01mraise\u001b[39;00m get_mysql_exception(\n\u001b[0;32m    365\u001b[0m         msg\u001b[38;5;241m=\u001b[39merr\u001b[38;5;241m.\u001b[39mmsg, errno\u001b[38;5;241m=\u001b[39merr\u001b[38;5;241m.\u001b[39merrno, sqlstate\u001b[38;5;241m=\u001b[39merr\u001b[38;5;241m.\u001b[39msqlstate\n\u001b[0;32m    366\u001b[0m     ) \u001b[38;5;28;01mfrom\u001b[39;00m \u001b[38;5;21;01merr\u001b[39;00m\n",
      "File \u001b[1;32mD:\\ananconda navi\\Lib\\site-packages\\mysql\\connector\\opentelemetry\\context_propagation.py:97\u001b[0m, in \u001b[0;36mwith_context_propagation.<locals>.wrapper\u001b[1;34m(cnx, *args, **kwargs)\u001b[0m\n\u001b[0;32m     95\u001b[0m \u001b[38;5;66;03m# pylint: disable=possibly-used-before-assignment\u001b[39;00m\n\u001b[0;32m     96\u001b[0m \u001b[38;5;28;01mif\u001b[39;00m \u001b[38;5;129;01mnot\u001b[39;00m OTEL_ENABLED \u001b[38;5;129;01mor\u001b[39;00m \u001b[38;5;129;01mnot\u001b[39;00m cnx\u001b[38;5;241m.\u001b[39motel_context_propagation:\n\u001b[1;32m---> 97\u001b[0m     \u001b[38;5;28;01mreturn\u001b[39;00m method(cnx, \u001b[38;5;241m*\u001b[39margs, \u001b[38;5;241m*\u001b[39m\u001b[38;5;241m*\u001b[39mkwargs)\n\u001b[0;32m     99\u001b[0m current_span \u001b[38;5;241m=\u001b[39m trace\u001b[38;5;241m.\u001b[39mget_current_span()\n\u001b[0;32m    100\u001b[0m tp_header \u001b[38;5;241m=\u001b[39m \u001b[38;5;28;01mNone\u001b[39;00m\n",
      "File \u001b[1;32mD:\\ananconda navi\\Lib\\site-packages\\mysql\\connector\\connection_cext.py:713\u001b[0m, in \u001b[0;36mCMySQLConnection.cmd_query\u001b[1;34m(self, query, raw, buffered, raw_as_string)\u001b[0m\n\u001b[0;32m    705\u001b[0m     \u001b[38;5;28mself\u001b[39m\u001b[38;5;241m.\u001b[39m_cmysql\u001b[38;5;241m.\u001b[39mquery(\n\u001b[0;32m    706\u001b[0m         query,\n\u001b[0;32m    707\u001b[0m         raw\u001b[38;5;241m=\u001b[39mraw,\n\u001b[1;32m   (...)\u001b[0m\n\u001b[0;32m    710\u001b[0m         query_attrs\u001b[38;5;241m=\u001b[39m\u001b[38;5;28mself\u001b[39m\u001b[38;5;241m.\u001b[39mquery_attrs,\n\u001b[0;32m    711\u001b[0m     )\n\u001b[0;32m    712\u001b[0m \u001b[38;5;28;01mexcept\u001b[39;00m MySQLInterfaceError \u001b[38;5;28;01mas\u001b[39;00m err:\n\u001b[1;32m--> 713\u001b[0m     \u001b[38;5;28;01mraise\u001b[39;00m get_mysql_exception(\n\u001b[0;32m    714\u001b[0m         err\u001b[38;5;241m.\u001b[39merrno, msg\u001b[38;5;241m=\u001b[39merr\u001b[38;5;241m.\u001b[39mmsg, sqlstate\u001b[38;5;241m=\u001b[39merr\u001b[38;5;241m.\u001b[39msqlstate\n\u001b[0;32m    715\u001b[0m     ) \u001b[38;5;28;01mfrom\u001b[39;00m \u001b[38;5;21;01merr\u001b[39;00m\n\u001b[0;32m    716\u001b[0m \u001b[38;5;28;01mexcept\u001b[39;00m \u001b[38;5;167;01mAttributeError\u001b[39;00m \u001b[38;5;28;01mas\u001b[39;00m err:\n\u001b[0;32m    717\u001b[0m     addr \u001b[38;5;241m=\u001b[39m (\n\u001b[0;32m    718\u001b[0m         \u001b[38;5;28mself\u001b[39m\u001b[38;5;241m.\u001b[39m_unix_socket \u001b[38;5;28;01mif\u001b[39;00m \u001b[38;5;28mself\u001b[39m\u001b[38;5;241m.\u001b[39m_unix_socket \u001b[38;5;28;01melse\u001b[39;00m \u001b[38;5;124mf\u001b[39m\u001b[38;5;124m\"\u001b[39m\u001b[38;5;132;01m{\u001b[39;00m\u001b[38;5;28mself\u001b[39m\u001b[38;5;241m.\u001b[39m_host\u001b[38;5;132;01m}\u001b[39;00m\u001b[38;5;124m:\u001b[39m\u001b[38;5;132;01m{\u001b[39;00m\u001b[38;5;28mself\u001b[39m\u001b[38;5;241m.\u001b[39m_port\u001b[38;5;132;01m}\u001b[39;00m\u001b[38;5;124m\"\u001b[39m\n\u001b[0;32m    719\u001b[0m     )\n",
      "\u001b[1;31mProgrammingError\u001b[0m: 1050 (42S01): Table 'APP_USER_LOGS' already exists"
     ]
    }
   ],
   "source": [
    "mycursor.execute(\"\"\"CREATE TABLE APP_USER_LOGS (\n",
    "    ID INT AUTO_INCREMENT PRIMARY KEY,\n",
    "    Text TEXT,\n",
    "    Predicted_class INT,\n",
    "    Negative FLOAT,\n",
    "    Neutral FLOAT,\n",
    "    Positive FLOAT,\n",
    "    ip_address VARCHAR(45),\n",
    "    Timestamp DATETIME DEFAULT CURRENT_TIMESTAMP\n",
    ");\n",
    "\"\"\")\n",
    "\n"
   ]
  },
  {
   "cell_type": "code",
   "execution_count": 41,
   "id": "0eaaffbb-8c0b-4211-90c4-cbe0e45028ca",
   "metadata": {},
   "outputs": [
    {
     "name": "stdout",
     "output_type": "stream",
     "text": [
      "+------+--------------------------------------------------------+-------------------+------------+------------+------------+---------------+---------------------+\n",
      "|   ID | Text                                                   |   Predicted_class |   Negative |    Neutral |   Positive | ip_address    | Timestamp           |\n",
      "|------+--------------------------------------------------------+-------------------+------------+------------+------------+---------------+---------------------|\n",
      "|    1 | The movie was not as good as I expected                |                 2 | 0.279408   | 0.482457   | 0.238135   | 172.31.49.194 | 2025-01-22 12:14:32 |\n",
      "|    2 | I would never recommend this to anyone                 |                 2 | 0.36182    | 0.460449   | 0.177731   | 172.31.1.253  | 2025-01-22 12:15:08 |\n",
      "|    3 | happy                                                  |                 2 | 0.0255673  | 0.957863   | 0.0165692  | 172.31.20.50  | 2025-01-22 12:21:35 |\n",
      "|    4 | not happy                                              |                 3 | 0.111767   | 0.106821   | 0.781411   | 172.31.20.50  | 2025-01-22 12:22:09 |\n",
      "|    5 | I love this product!                                   |                 2 | 0.011731   | 0.98294    | 0.00532899 | 172.31.49.194 | 2025-01-22 14:20:45 |\n",
      "|    6 | I hate this product                                    |                 3 | 0.00133527 | 0.0012908  | 0.997374   | 172.31.20.50  | 2025-01-22 14:22:45 |\n",
      "|    7 | I love this product                                    |                 2 | 0.00853982 | 0.986182   | 0.00527868 | 172.31.20.50  | 2025-01-22 14:25:31 |\n",
      "|    8 | i love this product                                    |                 2 | 0.00853982 | 0.986182   | 0.00527868 | 172.31.20.50  | 2025-01-22 14:36:23 |\n",
      "|    9 | i hate this product                                    |                 3 | 0.00133527 | 0.0012908  | 0.997374   | 172.31.20.50  | 2025-01-22 14:36:50 |\n",
      "|   10 | i love this product                                    |                 2 | 0.00853982 | 0.986182   | 0.00527868 | 172.31.43.158 | 2025-01-22 14:58:13 |\n",
      "|   11 | i hate  this product                                   |                 3 | 0.00133527 | 0.0012908  | 0.997374   | 172.31.43.158 | 2025-01-22 14:58:27 |\n",
      "|   12 | i dont  like                                           |                 3 | 0.150317   | 0.188607   | 0.661076   | 172.31.43.158 | 2025-01-22 14:58:45 |\n",
      "|   13 | This is the worst experience ever.                     |                 3 | 0.0253965  | 0.0267577  | 0.947846   | 172.31.43.158 | 2025-01-22 15:00:01 |\n",
      "|   14 | guvi has the best data science road map in industry    |                 2 | 0.293394   | 0.699804   | 0.00680247 | 172.31.43.158 | 2025-01-22 15:00:31 |\n",
      "|   15 | I love this product!                                   |                 2 | 0.011731   | 0.98294    | 0.00532899 | 172.31.43.158 | 2025-01-22 15:01:03 |\n",
      "|   16 | i love this product                                    |                 2 | 0.00853982 | 0.986182   | 0.00527868 | 172.31.20.50  | 2025-01-22 15:21:39 |\n",
      "|   17 | i love this product                                    |                 2 | 0.00527868 | 0.00853982 | 0.986182   | 172.31.20.50  | 2025-01-22 15:57:53 |\n",
      "|   18 | i hate this product                                    |                 3 | 0.997374   | 0.00133527 | 0.0012908  | 172.31.20.50  | 2025-01-22 15:58:06 |\n",
      "|   19 | i dont like this                                       |                 3 | 0.99284    | 0.00336306 | 0.00379706 | 172.31.20.50  | 2025-01-22 15:58:20 |\n",
      "|   20 | I can't believe how poorly they handled the situation. |                 3 | 0.986456   | 0.00634599 | 0.00719806 | 172.31.1.253  | 2025-01-22 16:00:13 |\n",
      "|   21 | I received the package yesterday, as expected          |                 1 | 0.0240094  | 0.682644   | 0.293347   | 172.31.43.158 | 2025-01-22 16:03:55 |\n",
      "+------+--------------------------------------------------------+-------------------+------------+------------+------------+---------------+---------------------+\n"
     ]
    }
   ],
   "source": [
    "mycursor.execute(\"select * FROM APP_USER_LOGS\")\n",
    "out = mycursor.fetchall()\n",
    "from tabulate import tabulate\n",
    "print(tabulate(out,headers = [i[0] for i in mycursor.description], tablefmt = 'psql'))"
   ]
  },
  {
   "cell_type": "code",
   "execution_count": null,
   "id": "1cdb4c7c-a497-46d9-8f1b-77513bd8a906",
   "metadata": {},
   "outputs": [],
   "source": []
  }
 ],
 "metadata": {
  "kernelspec": {
   "display_name": "Python 3 (ipykernel)",
   "language": "python",
   "name": "python3"
  },
  "language_info": {
   "codemirror_mode": {
    "name": "ipython",
    "version": 3
   },
   "file_extension": ".py",
   "mimetype": "text/x-python",
   "name": "python",
   "nbconvert_exporter": "python",
   "pygments_lexer": "ipython3",
   "version": "3.12.4"
  }
 },
 "nbformat": 4,
 "nbformat_minor": 5
}
